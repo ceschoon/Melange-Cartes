{
 "cells": [
  {
   "cell_type": "markdown",
   "metadata": {},
   "source": [
    "# Mesures de désordre lors de mélanges d'un paquet de cartes: Implementation des melanges et du calcul d'entropies"
   ]
  },
  {
   "cell_type": "markdown",
   "metadata": {},
   "source": [
    "## Table des matières"
   ]
  },
  {
   "cell_type": "markdown",
   "metadata": {},
   "source": [
    "- Introduction\n",
    "    - Entropie à 1 position: $S_1$\n",
    "    - Entropie à n positions: $S_n$ \n",
    "- Implémentation des mélanges\n",
    "    - Mélange \"haut-bas\"\n",
    "    - Mélange \"alterné\"\n",
    "- Implémentation des entropies positionnelles\n",
    "    - Entropie à 1 position\n",
    "    - Valeurs typiques de l'entropie à 1 position pour différentes  distributions finales\n",
    "    - Entropie à 2 positions\n",
    "    - Valeurs typiques de l'entropie à 2 positions pour différentes  distributions finales\n",
    "- Sources d'erreur dans les mesures d'entropie\n",
    "    - Nombre insuffisant de simulations\n",
    "- Stockage dans des fichiers "
   ]
  },
  {
   "cell_type": "markdown",
   "metadata": {},
   "source": [
    "## Introduction"
   ]
  },
  {
   "cell_type": "markdown",
   "metadata": {},
   "source": [
    "Dans le but d'en évaluer la qualité, nous tenons à mesurer le désordre produit par un mélange de cartes.\n",
    "Pour ce faire, nous introduisons des fonctions \"entropies positionneles\" associées au mélange considéré."
   ]
  },
  {
   "cell_type": "markdown",
   "metadata": {},
   "source": [
    "### Entropie à 1 position: $S_1$"
   ]
  },
  {
   "cell_type": "markdown",
   "metadata": {},
   "source": [
    "La fonction entropie à 1 position, notée $S_1(p)$, mesure le désordre engendré par le mélange sur un paquet avec une position $p$ connue. Le paquet initial est ainsi constitué d'une seule carte connue, à la position $p$. Le paquet est ensuite mélangé et une nouvelle configuration est ainsi obtenue. Les nouvelles configurations sont caractérisées par la carte connue à une certaine position, disons $q$, et les autres cartes toujours inconnues. Une entropie peut être associée à ce mélange en considérant l'ensemble statistique des configurations finales possibles. Si $\\mathcal P(q)$ est la probabilité pour que la carte connue finisse à la position $q$, l'entropie est donnée par la formule de Shannon:\n",
    "\n",
    "$$ S_1(p) = - \\sum_q \\mathcal P(q) \\ln \\mathcal P(q) $$\n",
    "\n",
    "Pour un paquet de 52 cartes, la valeur maximale de $S_1$ est atteinte lorsque $\\mathcal P(q)=1/52$ et vaut:\n",
    "\n",
    "$$ S_1^{max}(p) = - 52 \\cdot \\frac{1}{52} \\cdot \\ln\\frac{1}{52} = \\ln 52 \\approx 3.951 $$"
   ]
  },
  {
   "cell_type": "markdown",
   "metadata": {},
   "source": [
    "### Entropie à $n$ positions: $S_n$"
   ]
  },
  {
   "cell_type": "markdown",
   "metadata": {},
   "source": [
    "Similairement, nous pouvons définir l'entropie associée au mélange d'un paquet de cartes de $n$ cartes aux positions connues $(p_1,\\cdots,p_n)$. Si $\\mathcal P(q_1,\\cdots,q_n)$ désigne la probabilité d'obtenir la configuration finale $(q_1,\\cdots,q_n)$, nous avons l'entropie:\n",
    "\n",
    "$$ S_n(p_1,\\cdots,p_n) = - \\sum_{q_1,\\cdots,q_n} \\mathcal P(q_1,\\cdots,q_n) \\ln\\mathcal P(q_1,\\cdots,q_n)$$\n",
    "\n",
    "Pour un paquet de 52 cartes, la valeur maximale de $S_2$ est atteinte lorsque $\\mathcal P(q_1,q_2) = 1/(52\\cdot 51)$ et vaut:\n",
    "\n",
    "$$ S^{max}_2(p_1,p_2) = -52\\cdot 51 \\cdot \\frac 1 {52 \\cdot 51} \\cdot \\ln \\frac 1 {52 \\cdot 51} = \\ln (52 \\cdot 51) \\approx 7.883 $$"
   ]
  },
  {
   "cell_type": "markdown",
   "metadata": {},
   "source": [
    "## Implémentations de mélanges"
   ]
  },
  {
   "cell_type": "code",
   "execution_count": null,
   "metadata": {
    "collapsed": true
   },
   "outputs": [],
   "source": [
    "import numpy\n",
    "from matplotlib import pyplot\n",
    "%matplotlib inline\n",
    "from matplotlib import rcParams\n",
    "rcParams['font.family'] = 'serif'\n",
    "rcParams['font.size'] = 16\n",
    "import matplotlib.gridspec as gridspec\n",
    "import matplotlib.cm as cm\n",
    "import time,pandas"
   ]
  },
  {
   "cell_type": "markdown",
   "metadata": {},
   "source": [
    "### Mélange \"haut bas\""
   ]
  },
  {
   "cell_type": "code",
   "execution_count": null,
   "metadata": {
    "collapsed": true
   },
   "outputs": [],
   "source": [
    "def melange_1(paquet,n,tmin,tmax):\n",
    "    \n",
    "    \"\"\"\n",
    "    Fonction de mélange d'un paquet de cartes à la manière \"haut-bas\"\n",
    "\n",
    "    Paramètres\n",
    "    ----------\n",
    "    1: Le paquet à mélanger, sous forme d'un vecteur numpy.array d'entiers de 1 à #cartes\n",
    "    2: Nombre de mélanges à effectuer, un entier\n",
    "    3: Taille minimale des petits paquets de cartes à faire passer du paquet du dessus (ancien) \n",
    "       au paquet du dessous (nouveau). Ce nombre sera tiré uniformément entre cette taille minimale et la \n",
    "    4: taille maximale utilisée.\n",
    "\n",
    "    Renvoie:\n",
    "    --------\n",
    "    Le paquet mélangé, toujours sous forme d'un vecteur numpy.array d'entiers de 1 à #cartes\n",
    "    \"\"\"\n",
    "\n",
    "    N = len(paquet)\n",
    "    paquet_nouv = numpy.array([])\n",
    "    paquet_reste = paquet\n",
    "\n",
    "    for i in range(n):\n",
    "        \n",
    "        t = int(numpy.random.uniform(tmin,tmax+1))\n",
    "        paquet_nouv = paquet_reste[:t]\n",
    "        paquet_reste = paquet_reste[t:]\n",
    "        \n",
    "        while(len(paquet_reste)>tmax):\n",
    "            \n",
    "            t = int(numpy.random.uniform(tmin,tmax+1))\n",
    "            paquet_nouv = numpy.concatenate((paquet_reste[:t],paquet_nouv))\n",
    "            paquet_reste = paquet_reste[t:]\n",
    "            \n",
    "        paquet_nouv = numpy.concatenate((paquet_reste,paquet_nouv))\n",
    "        paquet_reste = paquet_nouv\n",
    "        \n",
    "    return paquet_nouv"
   ]
  },
  {
   "cell_type": "code",
   "execution_count": null,
   "metadata": {},
   "outputs": [],
   "source": [
    "paquet = numpy.arange(1,53)\n",
    "print(paquet)\n",
    "\n",
    "print(melange_1(paquet,1,5,15))"
   ]
  },
  {
   "cell_type": "markdown",
   "metadata": {},
   "source": [
    "### Mélange \"alterné\""
   ]
  },
  {
   "cell_type": "code",
   "execution_count": null,
   "metadata": {},
   "outputs": [],
   "source": [
    "tmax = 4\n",
    "p = 1/7\n",
    "\n",
    "hist = numpy.zeros(52)\n",
    "\n",
    "for i in range(10000):\n",
    "    \n",
    "    m = int(numpy.random.binomial(tmax,p))+1\n",
    "    hist[m] += 1\n",
    "    \n",
    "pyplot.plot(hist[:10]);"
   ]
  },
  {
   "cell_type": "code",
   "execution_count": null,
   "metadata": {
    "collapsed": true
   },
   "outputs": [],
   "source": [
    "def melange_2(paquet,n,tmax,p):\n",
    "    \n",
    "    \"\"\"\n",
    "    Fonction de mélange d'un paquet de cartes à la manière \"alternée\" (riffle shuffle)\n",
    "\n",
    "    Paramètres\n",
    "    ----------\n",
    "    1: Le paquet à mélanger, sous forme d'un vecteur numpy.array d'entiers de 1 à #cartes\n",
    "    2: Nombre de mélanges à effectuer, un entier\n",
    "    3: Taille maximale des petits paquets de cartes qui s'alternent durant le mélange.\n",
    "       Ce nombre sera tiré selon une binomiale entre 1 et la taille maximale indiquée avec la\n",
    "    4: Probabilité pour la binomiale tirant la taille des petits paquets\n",
    "    \n",
    "    Renvoie:\n",
    "    --------\n",
    "    Le paquet mélangé, toujours sous forme d'un vecteur numpy.array d'entiers de 1 à #cartes\n",
    "    \"\"\"\n",
    "\n",
    "    N = len(paquet)\n",
    "    paquet_ancien = paquet\n",
    "\n",
    "    for i in range(n):\n",
    "        \n",
    "        paquet_nouv = numpy.array([])\n",
    "        \n",
    "        m = int(numpy.random.uniform(N/2-N/12,N/2+N/12+1))\n",
    "        if(numpy.random.uniform(0,1)>0.5):\n",
    "            paquet_moitie_1 = paquet_ancien[:m]\n",
    "            paquet_moitie_2 = paquet_ancien[m:]\n",
    "        else:\n",
    "            paquet_moitie_2 = paquet_ancien[:m]\n",
    "            paquet_moitie_1 = paquet_ancien[m:]\n",
    "        \n",
    "        while(len(paquet_moitie_1)>tmax and len(paquet_moitie_2)>tmax):\n",
    "            \n",
    "            t1 = int(numpy.random.binomial(tmax,p))+1\n",
    "            t2 = int(numpy.random.binomial(tmax,p))+1\n",
    "            paquet_nouv = numpy.concatenate((paquet_moitie_2[-t2:],paquet_moitie_1[-t1:],paquet_nouv))\n",
    "            paquet_moitie_1 = paquet_moitie_1[:-t1]\n",
    "            paquet_moitie_2 = paquet_moitie_2[:-t2]\n",
    "            \n",
    "        paquet_nouv = numpy.concatenate((paquet_moitie_2,paquet_moitie_1,paquet_nouv))\n",
    "        paquet_ancien = paquet_nouv\n",
    "                \n",
    "    return paquet_nouv"
   ]
  },
  {
   "cell_type": "code",
   "execution_count": null,
   "metadata": {},
   "outputs": [],
   "source": [
    "paquet = numpy.arange(1,53)\n",
    "print(paquet)\n",
    "\n",
    "print(melange_2(paquet,1,4,1/7))\n",
    "print(melange_2(paquet,7,4,1/7))"
   ]
  },
  {
   "cell_type": "markdown",
   "metadata": {},
   "source": [
    "## Implémentation des entropies positionnelles"
   ]
  },
  {
   "cell_type": "markdown",
   "metadata": {},
   "source": [
    "### Entropie à 1 position"
   ]
  },
  {
   "cell_type": "code",
   "execution_count": null,
   "metadata": {
    "collapsed": true
   },
   "outputs": [],
   "source": [
    "def entropie_1(N,melange,p,tps):\n",
    "\n",
    "    \"\"\"\n",
    "    Entropie à 1 position\n",
    "    \n",
    "    Paramètres:\n",
    "    -----------\n",
    "    1: Taille du paquet à mélanger\n",
    "    2: Procédure de mélange\n",
    "    3: Position initiale de la carte connue\n",
    "    4: Nombre de simulations par configuration finale\n",
    "    \n",
    "    Renvoie:\n",
    "    --------\n",
    "    1: L'entropie à la position donnée\n",
    "    2: La densité de probabilité sur les configurations finales\n",
    "    \"\"\"\n",
    "    \n",
    "    M = int(N*tps) # nombre de simulations pour effectuer l'histogramme des configurations observées\n",
    "    \n",
    "    paquet_initial = numpy.arange(1,N+1)\n",
    "    histogramme = numpy.zeros(N)\n",
    "    \n",
    "    for i in range(M):\n",
    "        \n",
    "        paquet_melange = melange(paquet_initial)\n",
    "        histogramme[numpy.where(paquet_melange==p)] += 1\n",
    "        \n",
    "    probas = histogramme/M\n",
    "    log_probas = numpy.zeros(len(probas))\n",
    "\n",
    "    for i in range(len(probas)):\n",
    "        if probas[i]!=0:\n",
    "            log_probas[i] = numpy.log(probas[i])\n",
    "\n",
    "    entropie = - numpy.sum(probas*log_probas)\n",
    "    \n",
    "    return (entropie,probas)"
   ]
  },
  {
   "cell_type": "markdown",
   "metadata": {},
   "source": [
    "### Valeurs typiques de l'entropie à 1 position pour différentes  distributions finales"
   ]
  },
  {
   "cell_type": "markdown",
   "metadata": {},
   "source": [
    "Afin de pouvoir se donner une idée de la forme de la distribution finale à partir de la valeur de $S_1$, nous calculons cette entropie pour différentes distributions:"
   ]
  },
  {
   "cell_type": "code",
   "execution_count": null,
   "metadata": {},
   "outputs": [],
   "source": [
    "fig,ax = pyplot.subplots(2,2,figsize=(15,10))\n",
    "\n",
    "def melange(paquet): return melange_1(paquet,10,5,15)\n",
    "#def melange(paquet): return melange_2(paquet,1,4,1/7)\n",
    "(entropie,probas) = entropie_1(52,melange,5,300)\n",
    "ax[0,0].plot(probas);\n",
    "ax[0,0].set_title(\"entropie = {:.4f}\".format(entropie));\n",
    "\n",
    "def melange(paquet): return melange_1(paquet,20,5,15)\n",
    "#def melange(paquet): return melange_2(paquet,2,4,1/7)\n",
    "(entropie,probas) = entropie_1(52,melange,5,300)\n",
    "ax[0,1].plot(probas);\n",
    "ax[0,1].set_title(\"entropie = {:.4f}\".format(entropie));\n",
    "\n",
    "def melange(paquet): return melange_1(paquet,30,5,15)\n",
    "#def melange(paquet): return melange_2(paquet,3,4,1/7)\n",
    "(entropie,probas) = entropie_1(52,melange,5,300)\n",
    "ax[1,0].plot(probas);\n",
    "ax[1,0].set_title(\"entropie = {:.4f}\".format(entropie));\n",
    "\n",
    "def melange(paquet): return melange_1(paquet,50,5,15)\n",
    "#def melange(paquet): return melange_2(paquet,5,4,1/7)\n",
    "(entropie,probas) = entropie_1(52,melange,5,1000)\n",
    "ax[1,1].plot(probas);\n",
    "ax[1,1].set_title(\"entropie = {:.4f}\".format(entropie));"
   ]
  },
  {
   "cell_type": "markdown",
   "metadata": {},
   "source": [
    "Nous voyons que le mélange devient de bonne qualité qu'à partir de $S_1 \\approx 3.94$"
   ]
  },
  {
   "cell_type": "markdown",
   "metadata": {},
   "source": [
    "### Entropie à 2 positions"
   ]
  },
  {
   "cell_type": "code",
   "execution_count": null,
   "metadata": {
    "collapsed": true
   },
   "outputs": [],
   "source": [
    "def entropie_2(N,melange,p1,p2,tps):\n",
    "\n",
    "    \"\"\"\n",
    "    Entropie à 2 positions\n",
    "    \n",
    "    Paramètres:\n",
    "    -----------\n",
    "    1: Taille du paquet à mélanger\n",
    "    2: Procédure de mélange\n",
    "    3: Position initiale de la carte connue #1\n",
    "    4: Position initiale de la carte connue #2\n",
    "    5: Nombre de simulations par configuration finale\n",
    "    \n",
    "    Renvoie:\n",
    "    --------\n",
    "    1: L'entropie au couple de positions donné\n",
    "    2: La densité de probabilité sur les configurations finales\n",
    "    \"\"\"\n",
    "    \n",
    "    M = int(N*(N-1)*tps) # nombre de simulations pour effectuer l'histogramme des configurations observées\n",
    "    \n",
    "    paquet_initial = numpy.arange(1,N+1)\n",
    "    histogramme = numpy.zeros((N,N))\n",
    "    \n",
    "    for i in range(M):\n",
    "        \n",
    "        # indicateur de progression\n",
    "        #if (i%(N*(N-1)*10)==0):\n",
    "        #    print(i/(N*(N-1)),\"/100\")\n",
    "            \n",
    "        paquet_melange = melange(paquet_initial)\n",
    "        histogramme[numpy.where(paquet_melange==p1),numpy.where(paquet_melange==p2)] += 1\n",
    "        \n",
    "    probas = histogramme/M\n",
    "    log_probas = numpy.zeros((len(probas[:,0]),len(probas[0,:])))\n",
    "\n",
    "    for i in range(len(probas[:,0])):\n",
    "        for j in range(len(probas[0,:])):\n",
    "            \n",
    "            if probas[i][j]!=0:\n",
    "                log_probas[i][j] = numpy.log(probas[i][j])\n",
    "\n",
    "    entropie = - numpy.sum(probas*log_probas)\n",
    "        \n",
    "    return (entropie,probas)"
   ]
  },
  {
   "cell_type": "markdown",
   "metadata": {},
   "source": [
    "### Valeurs typiques de l'entropie à 2 positions pour différentes  distributions finales"
   ]
  },
  {
   "cell_type": "code",
   "execution_count": null,
   "metadata": {},
   "outputs": [],
   "source": [
    "fig,ax = pyplot.subplots(2,2,figsize=(15,10))\n",
    "\n",
    "#def melange(paquet): return melange_1(paquet,10,5,15)\n",
    "def melange(paquet): return melange_2(paquet,3,4,1/7)\n",
    "(entropie,probas) = entropie_2(52,melange,5,6,10)\n",
    "ax[0,0].set_title(\"entropie = {:.4f}\".format(entropie));\n",
    "\n",
    "x = numpy.arange(1,53)\n",
    "y = numpy.arange(1,53)\n",
    "nrows, ncols = 52, 52\n",
    "grid = probas.reshape((nrows, ncols))\n",
    "p = ax[0,0].imshow(grid, extent=(x.min(), x.max(), y.max(), y.min()),\n",
    "           interpolation='nearest', cmap=cm.viridis)\n",
    "fig.colorbar(p, shrink=0.8,ax=ax[0,0])\n",
    "\n",
    "#def melange(paquet): return melange_1(paquet,20,5,15)\n",
    "def melange(paquet): return melange_2(paquet,5,4,1/7)\n",
    "(entropie,probas) = entropie_2(52,melange,5,6,50)\n",
    "ax[0,1].set_title(\"entropie = {:.4f}\".format(entropie));\n",
    "\n",
    "x = numpy.arange(1,53)\n",
    "y = numpy.arange(1,53)\n",
    "nrows, ncols = 52, 52\n",
    "grid = probas.reshape((nrows, ncols))\n",
    "p = ax[0,1].imshow(grid, extent=(x.min(), x.max(), y.max(), y.min()),\n",
    "           interpolation='nearest', cmap=cm.viridis)\n",
    "fig.colorbar(p, shrink=0.8,ax=ax[0,1])\n",
    "\n",
    "#def melange(paquet): return melange_1(paquet,30,5,15)\n",
    "def melange(paquet): return melange_2(paquet,7,4,1/7)\n",
    "(entropie,probas) = entropie_2(52,melange,5,6,50)\n",
    "ax[1,0].set_title(\"entropie = {:.4f}\".format(entropie));\n",
    "\n",
    "x = numpy.arange(1,53)\n",
    "y = numpy.arange(1,53)\n",
    "nrows, ncols = 52, 52\n",
    "grid = probas.reshape((nrows, ncols))\n",
    "p = ax[1,0].imshow(grid, extent=(x.min(), x.max(), y.max(), y.min()),\n",
    "           interpolation='nearest', cmap=cm.viridis)\n",
    "fig.colorbar(p, shrink=0.8,ax=ax[1,0])\n",
    "\n",
    "#def melange(paquet): return melange_1(paquet,100,5,15)\n",
    "def melange(paquet): return melange_2(paquet,9,4,1/7)\n",
    "(entropie,probas) = entropie_2(52,melange,5,6,100)\n",
    "ax[1,1].set_title(\"entropie = {:.4f}\".format(entropie));\n",
    "\n",
    "x = numpy.arange(1,53)\n",
    "y = numpy.arange(1,53)\n",
    "nrows, ncols = 52, 52\n",
    "grid = probas.reshape((nrows, ncols))\n",
    "p = ax[1,1].imshow(grid, extent=(x.min(), x.max(), y.max(), y.min()),\n",
    "           interpolation='nearest', cmap=cm.viridis)\n",
    "fig.colorbar(p, shrink=0.8,ax=ax[1,1])\n",
    "\n",
    "pyplot.show()"
   ]
  },
  {
   "cell_type": "markdown",
   "metadata": {},
   "source": [
    "Le mélange est de bonne qualité qu'à partir de $S_2 \\approx 7.86$."
   ]
  },
  {
   "cell_type": "markdown",
   "metadata": {},
   "source": [
    "## Sources d'erreur dans les mesures d'entropie"
   ]
  },
  {
   "cell_type": "markdown",
   "metadata": {},
   "source": [
    "### Nombre insuffisant de simulations"
   ]
  },
  {
   "cell_type": "markdown",
   "metadata": {},
   "source": [
    "Si le nombre de simulations par configuration finale à échantilloner n'est pas assez grand, peu de données seront récoltée pour déterminer la densité de probabilité en un site. En conséquence, une grande variance sera observée sur les probabilités en chaque site et l'entropie sera sous-estimée. \n",
    "\n",
    "Un exemple est présenté ci-dessous, où l'on calcule l'entropie à 1 position pour un mélange réalisé par la fonction \\texttt{numpy.shuffle}. Le mélange est censé être parfait, donnant des configurations finales équiprobables et l'entropie doit donc prendre sa valeur maximale de $S_1 \\approx 3.951$. Pourtant, suivant le nombre de simulations par site (tps) que nous effectuons, nous observons des valeurs plus petites de l'entropie à cause du nombre limité de données. "
   ]
  },
  {
   "cell_type": "code",
   "execution_count": null,
   "metadata": {},
   "outputs": [],
   "source": [
    "fig,ax = pyplot.subplots(2,2,figsize=(15,10))\n",
    "\n",
    "def melange(paquet): \n",
    "    numpy.random.shuffle(paquet)\n",
    "    return paquet\n",
    "\n",
    "print(\"Valeur maximale de S1 = \",numpy.log(52))\n",
    "\n",
    "(entropie,probas) = entropie_1(52,melange,5,10)\n",
    "ax[0,0].plot(probas);\n",
    "ax[0,0].set_title(\"tps = 10, entropie = {:.6f}\".format(entropie));\n",
    "\n",
    "(entropie,probas) = entropie_1(52,melange,5,100)\n",
    "ax[0,1].plot(probas);\n",
    "ax[0,1].set_title(\"tps = 100, entropie = {:.6f}\".format(entropie));\n",
    "\n",
    "(entropie,probas) = entropie_1(52,melange,5,1000)\n",
    "ax[1,0].plot(probas);\n",
    "ax[1,0].set_title(\"tps = 1000, entropie = {:.6f}\".format(entropie));\n",
    "\n",
    "(entropie,probas) = entropie_1(52,melange,5,10000)\n",
    "ax[1,1].plot(probas);\n",
    "ax[1,1].set_title(\"tps = 10000, entropie = {:.6f}\".format(entropie));"
   ]
  },
  {
   "cell_type": "markdown",
   "metadata": {},
   "source": [
    "Ci-dessous un example plus concret avec un vrai mélange."
   ]
  },
  {
   "cell_type": "code",
   "execution_count": null,
   "metadata": {},
   "outputs": [],
   "source": [
    "fig,ax = pyplot.subplots(2,2,figsize=(15,10))\n",
    "\n",
    "def melange(paquet): return melange_1(paquet,20,5,15)\n",
    "(entropie,probas) = entropie_1(52,melange,5,10)\n",
    "ax[0,0].plot(probas);\n",
    "ax[0,0].set_title(\"tps = 10, entropie = {:.4f}\".format(entropie));\n",
    "\n",
    "def melange(paquet): return melange_1(paquet,20,5,15)\n",
    "(entropie,probas) = entropie_1(52,melange,5,100)\n",
    "ax[0,1].plot(probas);\n",
    "ax[0,1].set_title(\"tps = 100, entropie = {:.4f}\".format(entropie));\n",
    "\n",
    "def melange(paquet): return melange_1(paquet,20,5,15)\n",
    "(entropie,probas) = entropie_1(52,melange,5,1000)\n",
    "ax[1,0].plot(probas);\n",
    "ax[1,0].set_title(\"tps = 1000, entropie = {:.4f}\".format(entropie));\n",
    "\n",
    "def melange(paquet): return melange_1(paquet,20,5,15)\n",
    "(entropie,probas) = entropie_1(52,melange,5,10000)\n",
    "ax[1,1].plot(probas);\n",
    "ax[1,1].set_title(\"tps = 10000, entropie = {:.4f}\".format(entropie));"
   ]
  },
  {
   "cell_type": "markdown",
   "metadata": {},
   "source": [
    "Voyons ce qui se passe dans le cas de l'entropie à 2 positions."
   ]
  },
  {
   "cell_type": "code",
   "execution_count": null,
   "metadata": {},
   "outputs": [],
   "source": [
    "fig,ax = pyplot.subplots(2,2,figsize=(15,10))\n",
    "\n",
    "def melange(paquet): \n",
    "    numpy.random.shuffle(paquet)\n",
    "    return paquet\n",
    "\n",
    "print(\"Valeur maximale de S2 = \",numpy.log(52*51))\n",
    "\n",
    "(entropie,probas) = entropie_2(52,melange,5,6,1)\n",
    "ax[0,0].set_title(\"tps = 1, entropie = {:.4f}\".format(entropie));\n",
    "\n",
    "for i in range(52):\n",
    "    probas[i,i] = numpy.nan\n",
    "    \n",
    "x = numpy.arange(1,53)\n",
    "y = numpy.arange(1,53)\n",
    "nrows, ncols = 52, 52\n",
    "grid = probas.reshape((nrows, ncols))\n",
    "p = ax[0,0].imshow(grid, extent=(x.min(), x.max(), y.max(), y.min()),\n",
    "           interpolation='nearest', cmap=cm.viridis)\n",
    "fig.colorbar(p, shrink=0.8,ax=ax[0,0])\n",
    "\n",
    "(entropie,probas) = entropie_2(52,melange,5,6,10)\n",
    "ax[0,1].set_title(\"tps = 10, entropie = {:.4f}\".format(entropie));\n",
    "\n",
    "for i in range(52):\n",
    "    probas[i,i] = numpy.nan\n",
    "    \n",
    "x = numpy.arange(1,53)\n",
    "y = numpy.arange(1,53)\n",
    "nrows, ncols = 52, 52\n",
    "grid = probas.reshape((nrows, ncols))\n",
    "p = ax[0,1].imshow(grid, extent=(x.min(), x.max(), y.max(), y.min()),\n",
    "           interpolation='nearest', cmap=cm.viridis)\n",
    "fig.colorbar(p, shrink=0.8,ax=ax[0,1])\n",
    "\n",
    "(entropie,probas) = entropie_2(52,melange,5,6,100)\n",
    "ax[1,0].set_title(\"tps = 100, entropie = {:.4f}\".format(entropie));\n",
    "\n",
    "for i in range(52):\n",
    "    probas[i,i] = numpy.nan\n",
    "    \n",
    "x = numpy.arange(1,53)\n",
    "y = numpy.arange(1,53)\n",
    "nrows, ncols = 52, 52\n",
    "grid = probas.reshape((nrows, ncols))\n",
    "p = ax[1,0].imshow(grid, extent=(x.min(), x.max(), y.max(), y.min()),\n",
    "           interpolation='nearest', cmap=cm.viridis)\n",
    "fig.colorbar(p, shrink=0.8,ax=ax[1,0])\n",
    "\n",
    "(entropie,probas) = entropie_2(52,melange,5,6,1000)\n",
    "ax[1,1].set_title(\"tps = 1000, entropie = {:.4f}\".format(entropie));\n",
    "\n",
    "for i in range(52):\n",
    "    probas[i,i] = numpy.nan\n",
    "\n",
    "x = numpy.arange(1,53)\n",
    "y = numpy.arange(1,53)\n",
    "nrows, ncols = 52, 52\n",
    "grid = probas.reshape((nrows, ncols))\n",
    "p = ax[1,1].imshow(grid, extent=(x.min(), x.max(), y.max(), y.min()),\n",
    "           interpolation='nearest', cmap=cm.viridis)\n",
    "fig.colorbar(p, shrink=0.8,ax=ax[1,1])\n",
    "\n",
    "pyplot.show()"
   ]
  },
  {
   "cell_type": "markdown",
   "metadata": {},
   "source": [
    "Un cas plus concret:"
   ]
  },
  {
   "cell_type": "code",
   "execution_count": null,
   "metadata": {},
   "outputs": [],
   "source": [
    "fig,ax = pyplot.subplots(2,2,figsize=(15,10))\n",
    "\n",
    "#def melange(paquet): return melange_1(paquet,10,5,15)\n",
    "def melange(paquet): return melange_2(paquet,5,4,1/7)\n",
    "(entropie,probas) = entropie_2(52,melange,5,6,1)\n",
    "ax[0,0].set_title(\"tps = 1, entropie = {:.4f}\".format(entropie));\n",
    "\n",
    "x = numpy.arange(1,53)\n",
    "y = numpy.arange(1,53)\n",
    "nrows, ncols = 52, 52\n",
    "grid = probas.reshape((nrows, ncols))\n",
    "p = ax[0,0].imshow(grid, extent=(x.min(), x.max(), y.max(), y.min()),\n",
    "           interpolation='nearest', cmap=cm.viridis)\n",
    "fig.colorbar(p, shrink=0.8,ax=ax[0,0])\n",
    "\n",
    "#def melange(paquet): return melange_1(paquet,20,5,15)\n",
    "def melange(paquet): return melange_2(paquet,5,4,1/7)\n",
    "(entropie,probas) = entropie_2(52,melange,5,6,10)\n",
    "ax[0,1].set_title(\"tps = 10, entropie = {:.4f}\".format(entropie));\n",
    "\n",
    "x = numpy.arange(1,53)\n",
    "y = numpy.arange(1,53)\n",
    "nrows, ncols = 52, 52\n",
    "grid = probas.reshape((nrows, ncols))\n",
    "p = ax[0,1].imshow(grid, extent=(x.min(), x.max(), y.max(), y.min()),\n",
    "           interpolation='nearest', cmap=cm.viridis)\n",
    "fig.colorbar(p, shrink=0.8,ax=ax[0,1])\n",
    "\n",
    "#def melange(paquet): return melange_1(paquet,30,5,15)\n",
    "def melange(paquet): return melange_2(paquet,5,4,1/7)\n",
    "(entropie,probas) = entropie_2(52,melange,5,6,50)\n",
    "ax[1,0].set_title(\"tps = 50, entropie = {:.4f}\".format(entropie));\n",
    "\n",
    "x = numpy.arange(1,53)\n",
    "y = numpy.arange(1,53)\n",
    "nrows, ncols = 52, 52\n",
    "grid = probas.reshape((nrows, ncols))\n",
    "p = ax[1,0].imshow(grid, extent=(x.min(), x.max(), y.max(), y.min()),\n",
    "           interpolation='nearest', cmap=cm.viridis)\n",
    "fig.colorbar(p, shrink=0.8,ax=ax[1,0])\n",
    "\n",
    "#def melange(paquet): return melange_1(paquet,100,5,15)\n",
    "def melange(paquet): return melange_2(paquet,5,4,1/7)\n",
    "(entropie,probas) = entropie_2(52,melange,5,6,100)\n",
    "ax[1,1].set_title(\"tps = 100, entropie = {:.4f}\".format(entropie));\n",
    "\n",
    "x = numpy.arange(1,53)\n",
    "y = numpy.arange(1,53)\n",
    "nrows, ncols = 52, 52\n",
    "grid = probas.reshape((nrows, ncols))\n",
    "p = ax[1,1].imshow(grid, extent=(x.min(), x.max(), y.max(), y.min()),\n",
    "           interpolation='nearest', cmap=cm.viridis)\n",
    "fig.colorbar(p, shrink=0.8,ax=ax[1,1])\n",
    "\n",
    "pyplot.show()"
   ]
  },
  {
   "cell_type": "markdown",
   "metadata": {},
   "source": [
    "Ces examples sont utiles pour choisir le bon nombre de simulations par site pour que l'erreur causée par les fluctuations ne soit pas du même ordre que l'écart entre la valeur de l'entropie mesurée et la valeur d'entropie maximale."
   ]
  },
  {
   "cell_type": "markdown",
   "metadata": {},
   "source": [
    "## Stockage dans des fichiers"
   ]
  },
  {
   "cell_type": "markdown",
   "metadata": {},
   "source": [
    "Fonctions nous permettant de stocker et lire les vecteurs et matrices des résultats dans un fichier externe."
   ]
  },
  {
   "cell_type": "code",
   "execution_count": null,
   "metadata": {
    "collapsed": true
   },
   "outputs": [],
   "source": [
    "def storevec(vec, filename):\n",
    "    \n",
    "    M = len(vec)\n",
    "    \n",
    "    data = list(zip(vec))\n",
    "    df = pandas.DataFrame(data = data,columns = [\"vec\"])\n",
    "    df.to_csv(filename,index=False,header=True)\n",
    "    \n",
    "    \n",
    "def readvec(filename):\n",
    "    \n",
    "    data = pandas.read_csv(filename)\n",
    "    [vec] = numpy.transpose(data.as_matrix([\"vec\"]))\n",
    "    \n",
    "    return vec\n",
    "\n",
    "\n",
    "def mat2vec(mat):\n",
    "    \n",
    "    N = len(mat[0,:])\n",
    "    M = len(mat[:,0])\n",
    "    \n",
    "    vec = numpy.zeros(N*M)\n",
    "    for i in range(N):\n",
    "        vec[i*M:i*M+M] = mat[i,:]\n",
    "        \n",
    "    return vec\n",
    "\n",
    "\n",
    "def vec2mat(vec,M):\n",
    "    \n",
    "    N = int(len(vec)/M)\n",
    "    \n",
    "    mat = numpy.zeros((N,M))\n",
    "    for i in range(N):\n",
    "        mat[i,:] = vec[i*M:i*M+M]\n",
    "        \n",
    "    return mat\n",
    "\n",
    "def storemat(mat, filename):\n",
    "    \n",
    "    M = len(mat[0,:])\n",
    "    vec = mat2vec(mat)\n",
    "    \n",
    "    data = list(zip(vec))\n",
    "    df = pandas.DataFrame(data = data,columns = [\"vec\"])\n",
    "    df.to_csv(filename,index=False,header=True)\n",
    "    \n",
    "    \n",
    "def readmat(filename,M):\n",
    "    \n",
    "    data = pandas.read_csv(filename)\n",
    "    [vec] = numpy.transpose(data.as_matrix([\"vec\"]))\n",
    "    \n",
    "    mat = vec2mat(vec,M)\n",
    "    return mat"
   ]
  }
 ],
 "metadata": {
  "kernelspec": {
   "display_name": "Python 3",
   "language": "python",
   "name": "python3"
  },
  "language_info": {
   "codemirror_mode": {
    "name": "ipython",
    "version": 3
   },
   "file_extension": ".py",
   "mimetype": "text/x-python",
   "name": "python",
   "nbconvert_exporter": "python",
   "pygments_lexer": "ipython3",
   "version": "3.6.5"
  }
 },
 "nbformat": 4,
 "nbformat_minor": 2
}
