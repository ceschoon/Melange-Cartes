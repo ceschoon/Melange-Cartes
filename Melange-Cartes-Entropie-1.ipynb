{
 "cells": [
  {
   "cell_type": "markdown",
   "metadata": {},
   "source": [
    "# Mesures de désordre lors de mélanges d'un paquet de cartes: Comparaison des entropies à 1 position"
   ]
  },
  {
   "cell_type": "markdown",
   "metadata": {},
   "source": [
    "## Table des matières"
   ]
  },
  {
   "cell_type": "markdown",
   "metadata": {},
   "source": [
    "- Mélange \"haut-bas\"\n",
    "    - Densités de probabilité et entropie pour $p=1$\n",
    "    - Entropie à 1 position en fonction de $p$ \n",
    "- Mélange \"alterné\"\n",
    "    - Densités de probabilité et entropie pour $p=1$\n",
    "    - Densités de probabilité et entropie pour $p=20$\n",
    "    - Entropie à 1 position en fonction de $p$ \n",
    "- Combinaison des mélanges \"haut-bas\" et \"alterné\"\n",
    "    - Densités de probabilité et entropie pour $p=1$\n",
    "    - Densités de probabilité et entropie pour $p=10$\n",
    "    - Entropie à 1 position en fonction de $p$ "
   ]
  },
  {
   "cell_type": "code",
   "execution_count": null,
   "metadata": {
    "collapsed": true
   },
   "outputs": [],
   "source": [
    "import melanges, entropies as en, fileio\n",
    "import numpy\n",
    "from matplotlib import pyplot\n",
    "%matplotlib inline\n",
    "from matplotlib import rcParams\n",
    "rcParams['font.family'] = 'serif'\n",
    "rcParams['font.size'] = 16\n",
    "import matplotlib.gridspec as gridspec\n",
    "import matplotlib.cm as cm"
   ]
  },
  {
   "cell_type": "markdown",
   "metadata": {},
   "source": [
    "## Mélange \"haut-bas\""
   ]
  },
  {
   "cell_type": "markdown",
   "metadata": {},
   "source": [
    "### Densités de probabilité et entropie pour $p=1$"
   ]
  },
  {
   "cell_type": "code",
   "execution_count": null,
   "metadata": {},
   "outputs": [],
   "source": [
    "fig,ax = pyplot.subplots(3,2,figsize=(15,15))\n",
    "\n",
    "def melange(paquet): return melanges.melange_1(paquet,1,5,15)\n",
    "(entropie,probas) = en.entropie_1(52,melange,1,100)\n",
    "ax[0,0].plot(probas);\n",
    "ax[0,0].set_title(\"1 mélange, entropie = {:.3f}\".format(entropie));\n",
    "\n",
    "def melange(paquet): return melanges.melange_1(paquet,2,5,15)\n",
    "(entropie,probas) = en.entropie_1(52,melange,1,100)\n",
    "ax[0,1].plot(probas);\n",
    "ax[0,1].set_title(\"2 mélanges, entropie = {:.3f}\".format(entropie));\n",
    "\n",
    "def melange(paquet): return melanges.melange_1(paquet,3,5,15)\n",
    "(entropie,probas) = en.entropie_1(52,melange,1,100)\n",
    "ax[1,0].plot(probas);\n",
    "ax[1,0].set_title(\"3 mélanges, entropie = {:.3f}\".format(entropie));\n",
    "\n",
    "def melange(paquet): return melanges.melange_1(paquet,7,5,15)\n",
    "(entropie,probas) = en.entropie_1(52,melange,1,100)\n",
    "ax[1,1].plot(probas);\n",
    "ax[1,1].set_title(\"7 mélanges, entropie = {:.3f}\".format(entropie));\n",
    "\n",
    "def melange(paquet): return melanges.melange_1(paquet,20,5,15)\n",
    "(entropie,probas) = en.entropie_1(52,melange,1,300)\n",
    "ax[2,0].plot(probas);\n",
    "ax[2,0].set_title(\"20 mélanges, entropie = {:.3f}\".format(entropie));\n",
    "\n",
    "def melange(paquet): return melanges.melange_1(paquet,30,5,15)\n",
    "(entropie,probas) = en.entropie_1(52,melange,1,300)\n",
    "ax[2,1].plot(probas);\n",
    "ax[2,1].set_title(\"30 mélanges, entropie = {:.3f}\".format(entropie));"
   ]
  },
  {
   "cell_type": "markdown",
   "metadata": {},
   "source": [
    "### Entropie à 1 position en fonction de $p$"
   ]
  },
  {
   "cell_type": "code",
   "execution_count": null,
   "metadata": {},
   "outputs": [],
   "source": [
    "fig,ax = pyplot.subplots(2,2,figsize=(15,15))\n",
    "\n",
    "def melange(paquet): return melanges.melange_1(paquet,3,5,15)\n",
    "p = numpy.arange(1,53)\n",
    "entropies = numpy.zeros(52)\n",
    "for i in range(52):\n",
    "    entropies[i] = en.entropie_1(52,melange,p[i],100)[0]\n",
    "ax[0,0].plot(entropies);\n",
    "ax[0,0].set_title(\"3 mélanges\");\n",
    "\n",
    "def melange(paquet): return melanges.melange_1(paquet,7,5,15)\n",
    "p = numpy.arange(1,53)\n",
    "entropies = numpy.zeros(52)\n",
    "for i in range(52):\n",
    "    entropies[i] = en.entropie_1(52,melange,p[i],100)[0]\n",
    "ax[0,1].plot(entropies);\n",
    "ax[0,1].set_title(\"7 mélanges\");\n",
    "\n",
    "def melange(paquet): return melanges.melange_1(paquet,20,5,15)\n",
    "p = numpy.arange(1,53)\n",
    "entropies = numpy.zeros(52)\n",
    "for i in range(52):\n",
    "    entropies[i] = en.entropie_1(52,melange,p[i],100)[0]\n",
    "ax[1,0].plot(entropies);\n",
    "ax[1,0].set_title(\"20 mélanges\");\n",
    "\n",
    "def melange(paquet): return melanges.melange_1(paquet,30,5,15)\n",
    "p = numpy.arange(1,53)\n",
    "entropies = numpy.zeros(52)\n",
    "for i in range(52):\n",
    "    entropies[i] = en.entropie_1(52,melange,p[i],300)[0]\n",
    "ax[1,1].plot(entropies);\n",
    "ax[1,1].set_title(\"30 mélanges\");"
   ]
  },
  {
   "cell_type": "markdown",
   "metadata": {
    "collapsed": true
   },
   "source": [
    "## Mélange \"alterné\""
   ]
  },
  {
   "cell_type": "markdown",
   "metadata": {},
   "source": [
    "### Densités de probabilité et entropie pour $p=1$"
   ]
  },
  {
   "cell_type": "code",
   "execution_count": null,
   "metadata": {},
   "outputs": [],
   "source": [
    "fig,ax = pyplot.subplots(2,2,figsize=(15,15))\n",
    "\n",
    "def melange(paquet): return melanges.melange_2(paquet,1,4,1/7)\n",
    "(entropie,probas) = en.entropie_1(52,melange,1,100)\n",
    "ax[0,0].plot(probas);\n",
    "ax[0,0].set_title(\"1 mélange, entropie = {:.3f}\".format(entropie));\n",
    "\n",
    "def melange(paquet): return melanges.melange_2(paquet,3,4,1/7)\n",
    "(entropie,probas) = en.entropie_1(52,melange,1,100)\n",
    "ax[0,1].plot(probas);\n",
    "ax[0,1].set_title(\"3 mélanges, entropie = {:.3f}\".format(entropie));\n",
    "\n",
    "def melange(paquet): return melanges.melange_2(paquet,5,4,1/7)\n",
    "(entropie,probas) = en.entropie_1(52,melange,1,100)\n",
    "ax[1,0].plot(probas);\n",
    "ax[1,0].set_title(\"5 mélanges, entropie = {:.3f}\".format(entropie));\n",
    "\n",
    "def melange(paquet): return melanges.melange_2(paquet,7,4,1/7)\n",
    "(entropie,probas) = en.entropie_1(52,melange,1,300)\n",
    "ax[1,1].plot(probas);\n",
    "ax[1,1].set_title(\"7 mélanges, entropie = {:.3f}\".format(entropie));"
   ]
  },
  {
   "cell_type": "markdown",
   "metadata": {},
   "source": [
    "### Densités de probabilité et entropie pour $p=20$"
   ]
  },
  {
   "cell_type": "code",
   "execution_count": null,
   "metadata": {},
   "outputs": [],
   "source": [
    "fig,ax = pyplot.subplots(2,2,figsize=(15,15))\n",
    "\n",
    "def melange(paquet): return melanges.melange_2(paquet,1,4,1/7)\n",
    "(entropie,probas) = en.entropie_1(52,melange,20,100)\n",
    "ax[0,0].plot(probas);\n",
    "ax[0,0].set_title(\"1 mélange, entropie = {:.3f}\".format(entropie));\n",
    "\n",
    "def melange(paquet): return melanges.melange_2(paquet,2,4,1/7)\n",
    "(entropie,probas) = en.entropie_1(52,melange,20,100)\n",
    "ax[0,1].plot(probas);\n",
    "ax[0,1].set_title(\"2 mélanges, entropie = {:.3f}\".format(entropie));\n",
    "\n",
    "def melange(paquet): return melanges.melange_2(paquet,3,4,1/7)\n",
    "(entropie,probas) = en.entropie_1(52,melange,20,300)\n",
    "ax[1,0].plot(probas);\n",
    "ax[1,0].set_title(\"3 mélanges, entropie = {:.3f}\".format(entropie));\n",
    "\n",
    "def melange(paquet): return melanges.melange_2(paquet,4,4,1/7)\n",
    "(entropie,probas) = en.entropie_1(52,melange,20,300)\n",
    "ax[1,1].plot(probas);\n",
    "ax[1,1].set_title(\"4 mélanges, entropie = {:.3f}\".format(entropie));"
   ]
  },
  {
   "cell_type": "markdown",
   "metadata": {},
   "source": [
    "### Entropie à 1 position en fonction de $p$"
   ]
  },
  {
   "cell_type": "code",
   "execution_count": null,
   "metadata": {},
   "outputs": [],
   "source": [
    "fig,ax = pyplot.subplots(2,2,figsize=(15,15))\n",
    "\n",
    "def melange(paquet): return melanges.melange_2(paquet,1,4,1/7)\n",
    "p = numpy.arange(1,53)\n",
    "entropies = numpy.zeros(52)\n",
    "for i in range(52):\n",
    "    entropies[i] = en.entropie_1(52,melange,p[i],100)[0]\n",
    "ax[0,0].plot(entropies);\n",
    "ax[0,0].set_title(\"1 mélange\");\n",
    "\n",
    "def melange(paquet): return melanges.melange_2(paquet,3,4,1/7)\n",
    "p = numpy.arange(1,53)\n",
    "entropies = numpy.zeros(52)\n",
    "for i in range(52):\n",
    "    entropies[i] = en.entropie_1(52,melange,p[i],100)[0]\n",
    "ax[0,1].plot(entropies);\n",
    "ax[0,1].set_title(\"3 mélanges\");\n",
    "\n",
    "def melange(paquet): return melanges.melange_2(paquet,5,4,1/7)\n",
    "p = numpy.arange(1,53)\n",
    "entropies = numpy.zeros(52)\n",
    "for i in range(52):\n",
    "    entropies[i] = en.entropie_1(52,melange,p[i],100)[0]\n",
    "ax[1,0].plot(entropies);\n",
    "ax[1,0].set_title(\"5 mélanges\");\n",
    "\n",
    "def melange(paquet): return melanges.melange_2(paquet,7,4,1/7)\n",
    "p = numpy.arange(1,53)\n",
    "entropies = numpy.zeros(52)\n",
    "for i in range(52):\n",
    "    entropies[i] = en.entropie_1(52,melange,p[i],300)[0]\n",
    "ax[1,1].plot(entropies);\n",
    "ax[1,1].set_title(\"7 mélanges\");"
   ]
  },
  {
   "cell_type": "markdown",
   "metadata": {},
   "source": [
    "Le mélange alterné n'est pas très homogène à cause des cartes situées aux extrémités qui ont tendence à y rester. Il faut environ 7 itérations pour rendre le mélange homogène. Nous voyons toutefois que le mélange et de bonne qualité et très homogène pour les cartes situées au centre du paquet, ce dès la 3e itération."
   ]
  },
  {
   "cell_type": "markdown",
   "metadata": {},
   "source": [
    "## Combinaison des mélanges \"haut-bas\" et \"alterné\""
   ]
  },
  {
   "cell_type": "markdown",
   "metadata": {},
   "source": [
    "### Densités de probabilité et entropie pour $p=1$"
   ]
  },
  {
   "cell_type": "code",
   "execution_count": null,
   "metadata": {},
   "outputs": [],
   "source": [
    "fig,ax = pyplot.subplots(2,2,figsize=(15,15))\n",
    "\n",
    "def melange(paquet): \n",
    "    for i in range(1):\n",
    "        paquet = melanges.melange_1(melanges.melange_2(paquet,1,4,1/7),1,5,15)\n",
    "    return paquet\n",
    "(entropie,probas) = en.entropie_1(52,melange,1,100)\n",
    "ax[0,0].plot(probas);\n",
    "ax[0,0].set_title(\"1 mélange, entropie = {:.3f}\".format(entropie));\n",
    "\n",
    "def melange(paquet): \n",
    "    for i in range(2):\n",
    "        paquet = melanges.melange_1(melanges.melange_2(paquet,1,4,1/7),1,5,15)\n",
    "    return paquet\n",
    "(entropie,probas) = en.entropie_1(52,melange,1,100)\n",
    "ax[0,1].plot(probas);\n",
    "ax[0,1].set_title(\"2 mélanges, entropie = {:.3f}\".format(entropie));\n",
    "\n",
    "def melange(paquet): \n",
    "    for i in range(3):\n",
    "        paquet = melanges.melange_1(melanges.melange_2(paquet,1,4,1/7),1,5,15)\n",
    "    return paquet\n",
    "(entropie,probas) = en.entropie_1(52,melange,1,100)\n",
    "ax[1,0].plot(probas);\n",
    "ax[1,0].set_title(\"3 mélanges, entropie = {:.3f}\".format(entropie));\n",
    "\n",
    "def melange(paquet): \n",
    "    for i in range(4):\n",
    "        paquet = melanges.melange_1(melanges.melange_2(paquet,1,4,1/7),1,5,15)\n",
    "    return paquet\n",
    "(entropie,probas) = en.entropie_1(52,melange,1,300)\n",
    "ax[1,1].plot(probas);\n",
    "ax[1,1].set_title(\"4 mélanges, entropie = {:.3f}\".format(entropie));"
   ]
  },
  {
   "cell_type": "markdown",
   "metadata": {},
   "source": [
    "### Densités de probabilité et entropie pour $p=10$"
   ]
  },
  {
   "cell_type": "code",
   "execution_count": null,
   "metadata": {},
   "outputs": [],
   "source": [
    "fig,ax = pyplot.subplots(2,2,figsize=(15,15))\n",
    "\n",
    "def melange(paquet): \n",
    "    for i in range(1):\n",
    "        paquet = melanges.melange_1(melanges.melange_2(paquet,1,4,1/7),1,5,15)\n",
    "    return paquet\n",
    "(entropie,probas) = en.entropie_1(52,melange,10,100)\n",
    "ax[0,0].plot(probas);\n",
    "ax[0,0].set_title(\"1 mélange, entropie = {:.3f}\".format(entropie));\n",
    "\n",
    "def melange(paquet): \n",
    "    for i in range(2):\n",
    "        paquet = melanges.melange_1(melanges.melange_2(paquet,1,4,1/7),1,5,15)\n",
    "    return paquet\n",
    "(entropie,probas) = en.entropie_1(52,melange,10,100)\n",
    "ax[0,1].plot(probas);\n",
    "ax[0,1].set_title(\"2 mélanges, entropie = {:.3f}\".format(entropie));\n",
    "\n",
    "def melange(paquet): \n",
    "    for i in range(3):\n",
    "        paquet = melanges.melange_1(melanges.melange_2(paquet,1,4,1/7),1,5,15)\n",
    "    return paquet\n",
    "(entropie,probas) = en.entropie_1(52,melange,10,300)\n",
    "ax[1,0].plot(probas);\n",
    "ax[1,0].set_title(\"3 mélanges, entropie = {:.3f}\".format(entropie));\n",
    "\n",
    "def melange(paquet): \n",
    "    for i in range(7):\n",
    "        paquet = melanges.melange_1(melanges.melange_2(paquet,1,4,1/7),1,5,15)\n",
    "    return paquet\n",
    "(entropie,probas) = en.entropie_1(52,melange,10,300)\n",
    "ax[1,1].plot(probas);\n",
    "ax[1,1].set_title(\"4 mélanges, entropie = {:.3f}\".format(entropie));"
   ]
  },
  {
   "cell_type": "markdown",
   "metadata": {},
   "source": [
    "### Entropie à 1 position en fonction de $p$"
   ]
  },
  {
   "cell_type": "code",
   "execution_count": null,
   "metadata": {},
   "outputs": [],
   "source": [
    "fig,ax = pyplot.subplots(2,2,figsize=(15,15))\n",
    "\n",
    "def melange(paquet): \n",
    "    for i in range(1):\n",
    "        paquet = melanges.melange_1(melanges.melange_2(paquet,1,4,1/7),1,5,15)\n",
    "    return paquet\n",
    "p = numpy.arange(1,53)\n",
    "entropies = numpy.zeros(52)\n",
    "for i in range(52):\n",
    "    entropies[i] = en.entropie_1(52,melange,p[i],100)[0]\n",
    "ax[0,0].plot(entropies);\n",
    "ax[0,0].set_title(\"1 mélange\");\n",
    "\n",
    "def melange(paquet): \n",
    "    for i in range(2):\n",
    "        paquet = melanges.melange_1(melanges.melange_2(paquet,1,4,1/7),1,5,15)\n",
    "    return paquet\n",
    "p = numpy.arange(1,53)\n",
    "entropies = numpy.zeros(52)\n",
    "for i in range(52):\n",
    "    entropies[i] = en.entropie_1(52,melange,p[i],100)[0]\n",
    "ax[0,1].plot(entropies);\n",
    "ax[0,1].set_title(\"2 mélanges\");\n",
    "\n",
    "def melange(paquet): \n",
    "    for i in range(3):\n",
    "        paquet = melanges.melange_1(melanges.melange_2(paquet,1,4,1/7),1,5,15)\n",
    "    return paquet\n",
    "p = numpy.arange(1,53)\n",
    "entropies = numpy.zeros(52)\n",
    "for i in range(52):\n",
    "    entropies[i] = en.entropie_1(52,melange,p[i],300)[0]\n",
    "ax[1,0].plot(entropies);\n",
    "ax[1,0].set_title(\"3 mélanges\");\n",
    "\n",
    "def melange(paquet): \n",
    "    for i in range(4):\n",
    "        paquet = melanges.melange_1(melanges.melange_2(paquet,1,4,1/7),1,5,15)\n",
    "    return paquet\n",
    "p = numpy.arange(1,53)\n",
    "entropies = numpy.zeros(52)\n",
    "for i in range(52):\n",
    "    entropies[i] = en.entropie_1(52,melange,p[i],300)[0]\n",
    "ax[1,1].plot(entropies);\n",
    "ax[1,1].set_title(\"4 mélanges\");"
   ]
  },
  {
   "cell_type": "code",
   "execution_count": null,
   "metadata": {
    "collapsed": true
   },
   "outputs": [],
   "source": []
  }
 ],
 "metadata": {
  "kernelspec": {
   "display_name": "Python 3",
   "language": "python",
   "name": "python3"
  },
  "language_info": {
   "codemirror_mode": {
    "name": "ipython",
    "version": 3
   },
   "file_extension": ".py",
   "mimetype": "text/x-python",
   "name": "python",
   "nbconvert_exporter": "python",
   "pygments_lexer": "ipython3",
   "version": "3.6.5"
  }
 },
 "nbformat": 4,
 "nbformat_minor": 2
}
